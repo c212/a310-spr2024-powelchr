{
 "cells": [
  {
   "cell_type": "code",
   "execution_count": 40,
   "metadata": {},
   "outputs": [
    {
     "name": "stdout",
     "output_type": "stream",
     "text": [
      "This is a sssssentence to preform pig latin on awesome!\n",
      "isThay isyay ayay entencesssssay otay eformpray igpay atinlay onyay awesomeyay!\n"
     ]
    }
   ],
   "source": [
    "import re\n",
    "\n",
    "sentence = 'This is a sssssentence to preform pig latin on awesome!'\n",
    "\n",
    "\n",
    "'''\n",
    "\n",
    "\n",
    "1. If a word starts with a consonant and a vowel, put the first letter of the word at the end of the word and add \"ay.\"\n",
    "\n",
    "Example: Happy = appyh + ay = appyhay\n",
    "\n",
    "\n",
    "2. If a word starts with two consonants move the two consonants to the end of the word and add \"ay.\"\n",
    "\n",
    "Example: Child = Ildch + ay = Ildchay\n",
    "\n",
    "\n",
    "3. If a word starts with a vowel add the word \"yay\" at the end of the word.\n",
    "\n",
    "Example: Awesome = Awesome +yay = Awesomeyay\n",
    "\n",
    "\n",
    "'''\n",
    "\n",
    "\n",
    "new_sentence = []\n",
    "for word in sentence.split(' '):\n",
    "    pattern1 = r'(^[^aeiouAEIOU])([aeiouAEIOU])(\\w*)'\n",
    "    pattern2 = r'(^[^aeiouAEIOU]{2,})(\\w*)'\n",
    "    pattern3 = r'(^[aeiouAEIOU])(\\w*)'\n",
    "    if re.match(pattern1, word):\n",
    "        new = re.sub(pattern1, r'\\2\\3\\1', word)+'ay'\n",
    "        new_sentence.append(new)\n",
    "    elif re.match(pattern2, word):\n",
    "        new = re.sub(pattern2, r'\\2\\1', word)+'ay'\n",
    "        new_sentence.append(new)\n",
    "    else:\n",
    "        new = word + 'yay'\n",
    "        new = re.sub(pattern3, r'\\1\\2'+'yay', word)\n",
    "        new_sentence.append(new)\n",
    "new_sentence = ' '.join(new_sentence)\n",
    "\n",
    "\n",
    "print(sentence)\n",
    "print(new_sentence)\n",
    "\n",
    "\n"
   ]
  },
  {
   "cell_type": "code",
   "execution_count": 65,
   "metadata": {},
   "outputs": [
    {
     "name": "stdout",
     "output_type": "stream",
     "text": [
      "move from  start to target\n",
      "move from  start to helper\n",
      "move from  target to helper\n",
      "move from  start to target\n",
      "move from  helper to start\n",
      "move from  helper to target\n",
      "move from  start to target\n",
      "None\n"
     ]
    }
   ],
   "source": [
    "def hanoi(n, a, b, c):\n",
    "    if n == 1:\n",
    "        print('move from ', a, 'to', c)\n",
    "    else:\n",
    "        hanoi(n-1, a, c, b)\n",
    "        print('move from ', a, 'to', c)\n",
    "        hanoi(n-1,b,a,c)\n",
    "\n",
    "\n",
    "'''\n",
    "n = 3 \n",
    "\n",
    "hanoi (3, s, h, t)\n",
    "    hanoi (2, s, t, h)\n",
    "        hanoi (1,s,h,t) \n",
    "                                print() s --> t\n",
    "        print() s --> h \n",
    "\n",
    "        hanoi (1,t,s, h) \n",
    "                                print() t --> h \n",
    "\n",
    "    print() s --> t\n",
    "\n",
    "    hanoi (2, h,s,t)   \n",
    "        hanoi (1, h, t, s) \n",
    "                                print() h --> s\n",
    "        print() h --> t\n",
    "\n",
    "        hanoi (1, s, h, t) \n",
    "                                print() s--> t\n",
    "\n",
    "'''\n",
    "\n",
    "\n",
    "print(hanoi(3,'start','helper','target'))"
   ]
  },
  {
   "cell_type": "code",
   "execution_count": 63,
   "metadata": {},
   "outputs": [
    {
     "data": {
      "text/plain": [
       "[17, 24, 26, 31, 32, 34, 39, 42, 58, 70, 70, 73, 75, 86, 99]"
      ]
     },
     "execution_count": 63,
     "metadata": {},
     "output_type": "execute_result"
    }
   ],
   "source": [
    "# quick sort \n",
    "\n",
    "q = lambda l: q( [x for x in l[1:] if x <= l[0]]) + [l[0]] + q([x for x in l if x > l[0]]) if l else []\n",
    "\n",
    "import numpy as np \n",
    "\n",
    "a = list(np.random.randint(0, 100, 15))\n",
    "\n",
    "q(a)\n",
    "\n",
    "\n"
   ]
  },
  {
   "cell_type": "code",
   "execution_count": 51,
   "metadata": {},
   "outputs": [
    {
     "name": "stdout",
     "output_type": "stream",
     "text": [
      "[1, 11, 11, 25, 28, 40, 53, 58, 72, 72, 89, 92, 94, 95, 97]\n"
     ]
    }
   ],
   "source": [
    "# def quicksort(arr):\n",
    "#     if len(arr) <= 1:\n",
    "#         return arr\n",
    "#     else:\n",
    "#         pivot = arr[len(arr) // 2]\n",
    "#         left = [x for x in arr if x < pivot]\n",
    "#         middle = [x for x in arr if x == pivot]\n",
    "#         right = [x for x in arr if x > pivot]\n",
    "#         return quicksort(left) + middle + quicksort(right)\n",
    "\n",
    "def quicksort(arr):\n",
    "    if len(arr) <= 1:\n",
    "        return arr\n",
    "    else:\n",
    "        pivot = arr[len(arr) // 2]\n",
    "        left = []\n",
    "        middle = []\n",
    "        right = []\n",
    "        for x in arr:\n",
    "            if x < pivot:\n",
    "                left.append(x)\n",
    "            elif x == pivot:\n",
    "                middle.append(x)\n",
    "            else:  # x > pivot\n",
    "                right.append(x)\n",
    "        return quicksort(left) + middle + quicksort(right)\n",
    "    \n",
    "\n",
    "def quicksort(arr):\n",
    "    if len(arr) <= 1:\n",
    "        return \n",
    "    else:\n",
    "        pivot = arr[len(arr)//2]\n",
    "        left, middle, right = [], [], []\n",
    "        for x in arr:\n",
    "            if x < pivot:\n",
    "                left.append(x)\n",
    "            elif x == pivot:\n",
    "                middle.append(x)\n",
    "            else:\n",
    "                right.append(x)\n",
    "        return quicksort(left) + middle + quicksort(right)\n",
    "\n",
    "\n",
    "\n",
    "# Example usage:\n",
    "arr = [3, 6, 8, 10, 1, 2, 1]\n",
    "sorted_arr = quicksort(a)\n",
    "print(sorted_arr)\n"
   ]
  }
 ],
 "metadata": {
  "kernelspec": {
   "display_name": "Python 3",
   "language": "python",
   "name": "python3"
  },
  "language_info": {
   "codemirror_mode": {
    "name": "ipython",
    "version": 3
   },
   "file_extension": ".py",
   "mimetype": "text/x-python",
   "name": "python",
   "nbconvert_exporter": "python",
   "pygments_lexer": "ipython3",
   "version": "3.11.1"
  }
 },
 "nbformat": 4,
 "nbformat_minor": 2
}
